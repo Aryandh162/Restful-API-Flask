{
  "nbformat": 4,
  "nbformat_minor": 0,
  "metadata": {
    "colab": {
      "provenance": []
    },
    "kernelspec": {
      "name": "python3",
      "display_name": "Python 3"
    },
    "language_info": {
      "name": "python"
    }
  },
  "cells": [
    {
      "cell_type": "markdown",
      "source": [
        "#Restful API & Flask Assignment"
      ],
      "metadata": {
        "id": "G080y2YKfk_O"
      }
    },
    {
      "cell_type": "markdown",
      "source": [
        "1. What is a RESTful API?"
      ],
      "metadata": {
        "id": "FeMTItddfyZx"
      }
    },
    {
      "cell_type": "markdown",
      "source": [
        "=> A RESTful API (also called a REST API) is a way for different computer systems to talk to each other over the internet. It's like a waiter taking your order to the kitchen and bringing back your food."
      ],
      "metadata": {
        "id": "axD4unMYoQEO"
      }
    },
    {
      "cell_type": "markdown",
      "source": [
        "2. Explain the concept of API specification."
      ],
      "metadata": {
        "id": "s-XzLcy3gchQ"
      }
    },
    {
      "cell_type": "markdown",
      "source": [
        "=> An API specification is essentially a blueprint or contract that clearly defines how an API works. It's a detailed document that describes all the endpoints, data formats, authentication methods, and other essential aspects of an API."
      ],
      "metadata": {
        "id": "qlaytElkoTPM"
      }
    },
    {
      "cell_type": "markdown",
      "source": [
        "3. What is Flask, and why is it popular for building APIs?\n"
      ],
      "metadata": {
        "id": "tbX8poxjgebV"
      }
    },
    {
      "cell_type": "markdown",
      "source": [
        "=> Flask is a micro web framework written in Python. It's called \"micro\" because it doesn't enforce dependencies or specific project layouts, giving developers flexibility and control over their applications."
      ],
      "metadata": {
        "id": "uJvlIEt6odeo"
      }
    },
    {
      "cell_type": "markdown",
      "source": [
        "4. What is routing in Flask?\n"
      ],
      "metadata": {
        "id": "bpgn5jDmggMQ"
      }
    },
    {
      "cell_type": "markdown",
      "source": [
        "=> In Flask, routing is the process of mapping URLs to specific functions within your application. It's how your application knows what code to execute when a user visits a particular URL."
      ],
      "metadata": {
        "id": "y4wf-i0Roj5-"
      }
    },
    {
      "cell_type": "markdown",
      "source": [
        "5. How do you create a simple Flask application?\n"
      ],
      "metadata": {
        "id": "aaOghENhgh4A"
      }
    },
    {
      "cell_type": "markdown",
      "source": [
        "=> This is how you can create a simple Flask application:-\n",
        "* Import Flask\n",
        "* Define a Route\n",
        "* Define the Function\n",
        "* Run the Application"
      ],
      "metadata": {
        "id": "M0E1fF15orIo"
      }
    },
    {
      "cell_type": "markdown",
      "source": [
        "6. What are HTTP methods used in RESTful APIs?\n"
      ],
      "metadata": {
        "id": "gRYcWoSxgjzN"
      }
    },
    {
      "cell_type": "markdown",
      "source": [
        "=> RESTful APIs use standard HTTP methods to perform actions on resources. These methods are often referred to as verbs, as they describe the type of operation being performed."
      ],
      "metadata": {
        "id": "9ZOaYOHepVx9"
      }
    },
    {
      "cell_type": "markdown",
      "source": [
        "7. What is the purpose of the @app.route() decorator in Flask?\n"
      ],
      "metadata": {
        "id": "n7v7KC52glmf"
      }
    },
    {
      "cell_type": "markdown",
      "source": [
        "=> The @app.route() decorator in Flask is a crucial component for defining routes in your web application. Its primary purpose is to associate a specific URL with a function that will handle requests to that URL."
      ],
      "metadata": {
        "id": "y4-2oeA6piwW"
      }
    },
    {
      "cell_type": "markdown",
      "source": [
        "8. What is the difference between GET and POST HTTP methods?\n"
      ],
      "metadata": {
        "id": "NpP60I2xgnod"
      }
    },
    {
      "cell_type": "markdown",
      "source": [
        "=> In simpler terms the difference between GET and POST HTTP methods are:\n",
        "\n",
        "* GET is like asking for information. Imagine going to a library and asking for a specific book. You're not changing anything in the library; you're simply retrieving information.\n",
        "* POST is like submitting information. Imagine filling out a form and sending it to a company. You're providing new data that the company will process and potentially store."
      ],
      "metadata": {
        "id": "jpu3iMmPpvRC"
      }
    },
    {
      "cell_type": "markdown",
      "source": [
        "9. How do you handle errors in Flask APIs?\n"
      ],
      "metadata": {
        "id": "fh1-VJj2gp00"
      }
    },
    {
      "cell_type": "markdown",
      "source": [
        "=> Error handling is crucial for creating robust and user-friendly APIs. In Flask, you can handle errors gracefully using error handlers and custom error responses."
      ],
      "metadata": {
        "id": "KnklMkwoqAVP"
      }
    },
    {
      "cell_type": "markdown",
      "source": [
        "10. How do you connect Flask to a SQL database?"
      ],
      "metadata": {
        "id": "acB1jlKjgrwt"
      }
    },
    {
      "cell_type": "markdown",
      "source": [
        "=> Flask-SQLAlchemy is a Flask extension that provides a simple and efficient way to interact with SQL databases. It acts as an Object Relational Mapper (ORM), allowing you to work with databases using Python objects instead of raw SQL queries.\n",
        "connect flask to a SQL database:\n",
        "1. Installation\n",
        "2. Configuration\n",
        "3. Defining Models\n",
        "4. Creating Tables"
      ],
      "metadata": {
        "id": "P5b6FiJkqBxC"
      }
    },
    {
      "cell_type": "markdown",
      "source": [
        "11. What is the role of Flask-SQLAlchemy?\n"
      ],
      "metadata": {
        "id": "SYMMziHnguCP"
      }
    },
    {
      "cell_type": "markdown",
      "source": [
        "=> Flask-SQLAlchemy is a Flask extension that acts as a bridge between your Flask application and a SQL database. It simplifies database interactions by providing an Object Relational Mapper (ORM) and other helpful tools."
      ],
      "metadata": {
        "id": "X-mgXbBZrLkt"
      }
    },
    {
      "cell_type": "markdown",
      "source": [
        "12. What are Flask blueprints, and how are they useful?\n"
      ],
      "metadata": {
        "id": "kR_GvxXAgwBn"
      }
    },
    {
      "cell_type": "markdown",
      "source": [
        "=> Flask blueprints are a way to organize a Flask application into modular components. They allow you to group related views, templates, static files, and other resources into separate packages or modules, improving the structure and maintainability of your application.\n",
        "\n",
        "Think of blueprints like building blocks that you can assemble to create your Flask application. Each blueprint can represent a specific feature or section of your application, such as user authentication, blog posts, or an admin panel."
      ],
      "metadata": {
        "id": "bQV6xTMrbK5r"
      }
    },
    {
      "cell_type": "markdown",
      "source": [
        "13. What is the purpose of Flask's request object?\n"
      ],
      "metadata": {
        "id": "oXAXKkI7gxsE"
      }
    },
    {
      "cell_type": "markdown",
      "source": [
        "=> The main purpose of the request object is to provide your Flask application with details about the client's request, allowing you to tailor the response accordingly. For example, you can access data sent by the client (e.g., form data, query parameters) or determine the type of request (e.g., GET, POST) using the request object."
      ],
      "metadata": {
        "id": "tl3vjZEzbM-l"
      }
    },
    {
      "cell_type": "markdown",
      "source": [
        "14. How do you create a RESTful API endpoint using Flask?"
      ],
      "metadata": {
        "id": "ooJzVKf8gzbp"
      }
    },
    {
      "cell_type": "markdown",
      "source": [
        "=> To ou create a RESTful API endpoint using Flask\n",
        "1. Install Flask\n",
        "2. Import necessary modules\n",
        "3. Create a Flask application\n",
        "4. Define the API endpoint\n",
        "5. Run the application"
      ],
      "metadata": {
        "id": "QgwnEGHAbdWw"
      }
    },
    {
      "cell_type": "markdown",
      "source": [
        "15. What is the purpose of Flask's jsonify() function?"
      ],
      "metadata": {
        "id": "0ciAMUHug19j"
      }
    },
    {
      "cell_type": "markdown",
      "source": [
        "=> The jsonify() function in Flask is used to convert a Python data structure (like a dictionary or list) into a JSON (JavaScript Object Notation) response. This response is then sent back to the client making the request."
      ],
      "metadata": {
        "id": "OLmNKfgxbmoP"
      }
    },
    {
      "cell_type": "markdown",
      "source": [
        "16. Explain Flask’s url_for() function."
      ],
      "metadata": {
        "id": "7iSmHEr4g4D9"
      }
    },
    {
      "cell_type": "markdown",
      "source": [
        "=> The url_for() function in Flask is used to generate URLs for your application's routes. Instead of hardcoding URLs in your templates or code, you use url_for() to dynamically create them based on the route's name and any necessary parameters."
      ],
      "metadata": {
        "id": "8WrX7iemb0jL"
      }
    },
    {
      "cell_type": "markdown",
      "source": [
        "17. How does Flask handle static files (CSS, JavaScript, etc.)?"
      ],
      "metadata": {
        "id": "ySk3uWPKg6Oz"
      }
    },
    {
      "cell_type": "markdown",
      "source": [
        "=> Static Files in Flask:\n",
        "\n",
        "Static files are files that don't change often, such as CSS files for styling, JavaScript files for interactivity, images, and other assets.\n",
        "\n",
        "Flask's Approach:\n",
        "\n",
        "Flask has a built-in mechanism for serving static files. It uses a specific directory within your application's folder structure called static."
      ],
      "metadata": {
        "id": "E7hLPeYlb2G0"
      }
    },
    {
      "cell_type": "markdown",
      "source": [
        "18. What is an API specification, and how does it help in building a Flask API?"
      ],
      "metadata": {
        "id": "FSRDhvS2g8cC"
      }
    },
    {
      "cell_type": "markdown",
      "source": [
        "=> An API specification, also known as an API definition or contract, is a document that describes how an API works. It's essentially a blueprint that defines the endpoints, data formats, authentication methods, and other details necessary to interact with the API."
      ],
      "metadata": {
        "id": "J3Ynu9sEcBZk"
      }
    },
    {
      "cell_type": "markdown",
      "source": [
        "19. What are HTTP status codes, and why are they important in a Flask API?"
      ],
      "metadata": {
        "id": "I8z4rUN-g-m3"
      }
    },
    {
      "cell_type": "markdown",
      "source": [
        "=>HTTP status codes are three-digit numbers that web servers send back to clients (like web browsers) in response to their requests. These codes indicate the status of the request and provide information about whether it was successful, encountered an error, or requires further action."
      ],
      "metadata": {
        "id": "mK-IexCKcJM-"
      }
    },
    {
      "cell_type": "markdown",
      "source": [
        "20. How do you handle POST requests in Flask?"
      ],
      "metadata": {
        "id": "VPy9tZrshA_X"
      }
    },
    {
      "cell_type": "markdown",
      "source": [
        "=> POST requests are used to send data to the server to create or update a resource. In Flask, you can handle POST requests by specifying the methods argument in the @app.route decorator and accessing the data using the request object."
      ],
      "metadata": {
        "id": "0LC0NMVfcRO8"
      }
    },
    {
      "cell_type": "markdown",
      "source": [
        "21. How would you secure a Flask API?"
      ],
      "metadata": {
        "id": "aski_fVJhC0D"
      }
    },
    {
      "cell_type": "markdown",
      "source": [
        "=>\n",
        "1. HTTPS:\n",
        "\n",
        "Always use HTTPS: Enforce HTTPS for all API requests to encrypt data transmitted between the client and the server, protecting it from eavesdropping.\n",
        "Obtain an SSL certificate: Use a trusted certificate authority (CA) to get an SSL certificate for your domain.\n",
        "Configure Flask: In your Flask application, use the following code to ensure HTTPS is enforced.\n",
        "\n",
        "2. Authentication:\n",
        "\n",
        "API keys: Use API keys to identify and authenticate clients. Generate unique keys for each client and require them to include the key in their requests (e.g., in the request headers).\n",
        "JWT (JSON Web Token): JWT is a standard for creating access tokens that can be used to authenticate and authorize users. It allows you to securely transmit information between parties as a JSON object.\n",
        "OAuth 2.0: OAuth 2.0 is an authorization framework that allows third-party applications to access user data without requiring their credentials. You can use Flask-OAuthlib or other libraries to implement OAuth 2.0 in your API.\n",
        "3. Authorization:\n",
        "\n",
        "Role-based access control (RBAC): Define different roles with varying levels of access to API resources. Assign users to roles and enforce access restrictions based on their roles.\n",
        "Flask-Security: Flask-Security or similar extensions can help you implement RBAC and other security features.\n",
        "4. Input Validation:\n",
        "\n",
        "Validate all input: Thoroughly validate all data received from clients to prevent injection attacks (e.g., SQL injection, cross-site scripting).\n",
        "Use data validation libraries: Consider using libraries like Marshmallow or WTForms to define data schemas and validate input against them.\n",
        "5. Data Protection:\n",
        "\n",
        "Store sensitive data securely: Never store sensitive data like passwords or API keys in plain text. Use hashing algorithms (e.g., bcrypt, Argon2) to store passwords securely.\n",
        "Encrypt sensitive data: Encrypt data at rest and in transit to protect it from unauthorized access.\n",
        "Limit data exposure: Only return necessary data in API responses. Avoid including sensitive information that is not required by the client.\n",
        "6. Rate Limiting:\n",
        "\n",
        "Prevent abuse: Implement rate limiting to restrict the number of requests a client can make within a specific time frame.\n",
        "Flask-Limiter: Flask-Limiter can help you implement rate limiting easily.\n",
        "7. Logging and Monitoring:\n",
        "\n",
        "Log API activity: Log all API requests and responses, including timestamps, client IP addresses, and user information.\n",
        "Monitor for suspicious activity: Regularly review logs to detect and respond to potential security threats.\n",
        "8. Regular Security Audits:\n",
        "\n",
        "Conduct periodic security assessments: Regularly review your API's security measures to identify and address vulnerabilities.\n",
        "Use security scanning tools: Employ automated tools to scan for known vulnerabilities."
      ],
      "metadata": {
        "id": "-w5y63vDcZbQ"
      }
    },
    {
      "cell_type": "markdown",
      "source": [
        "22. What is the significance of the Flask-RESTful extension?"
      ],
      "metadata": {
        "id": "jQ8lEiw0hE8U"
      }
    },
    {
      "cell_type": "markdown",
      "source": [
        "=> Flask-RESTful is an extension for Flask that adds support for quickly building REST APIs. It encourages best practices and provides a more structured approach to API development compared to using Flask alone."
      ],
      "metadata": {
        "id": "fgWT-x0dcw05"
      }
    },
    {
      "cell_type": "markdown",
      "source": [
        "23. What is the role of Flask’s session object?"
      ],
      "metadata": {
        "id": "1OqyFlzRhGnq"
      }
    },
    {
      "cell_type": "markdown",
      "source": [
        "=> The session object in Flask is used to store data that is specific to a particular user's interaction with a web application. It allows you to maintain state between different requests from the same user. This is essential for features like user logins, shopping carts, and personalized settings."
      ],
      "metadata": {
        "id": "9N2GstmIcyRk"
      }
    },
    {
      "cell_type": "markdown",
      "source": [
        "# Practical Questions"
      ],
      "metadata": {
        "id": "a4dRs-dJhKnf"
      }
    },
    {
      "cell_type": "markdown",
      "source": [
        "1. How do you create a basic Flask application?"
      ],
      "metadata": {
        "id": "A8skmA-XiVoI"
      }
    },
    {
      "cell_type": "code",
      "source": [
        "#code for the above ques.\n",
        "\n",
        "from flask import Flask\n",
        "\n",
        "app = Flask(__name__)\n",
        "\n",
        "@app.route('/')\n",
        "def hello_world():\n",
        "    return 'Hello, World!'\n",
        "\n",
        "if __name__ == '__main__':\n",
        "    app.run()"
      ],
      "metadata": {
        "id": "mNmL7G4tjaDe"
      },
      "execution_count": null,
      "outputs": []
    },
    {
      "cell_type": "markdown",
      "source": [
        "2. How do you serve static files like images or CSS in Flask?"
      ],
      "metadata": {
        "id": "ESY7B1cSixU-"
      }
    },
    {
      "cell_type": "code",
      "source": [
        "#code for the above ques.\n",
        "from flask import Flask, send_from_directory\n",
        "\n",
        "app = Flask(__name__)\n",
        "\n",
        "@app.route('/static/<path:filename>')\n",
        "def serve_static(filename):\n",
        "    return send_from_directory('static', filename)\n",
        "\n",
        "    if __name__ == '__main__':\n",
        "      app.run()"
      ],
      "metadata": {
        "id": "QBeWgwfUjg9X"
      },
      "execution_count": null,
      "outputs": []
    },
    {
      "cell_type": "markdown",
      "source": [
        "3. How do you define different routes with different HTTP methods in Flask?"
      ],
      "metadata": {
        "id": "NSpqfP21izFE"
      }
    },
    {
      "cell_type": "code",
      "source": [
        "#code for the above ques.\n",
        "from flask import Flask, request\n",
        "\n",
        "app = Flask(__name__)\n",
        "\n",
        "@app.route('/hello', methods=['GET', 'POST'])\n",
        "def hello():\n",
        "    if request.method == 'GET':\n",
        "        return 'Hello, World!'\n",
        "          elif request.method == 'POST':\n",
        "        name = request.form.get('name')\n",
        "        return f'Hello, {name}!'\n",
        "\n",
        "    if __name__ == '__main__':\n",
        "      app.run()"
      ],
      "metadata": {
        "id": "TEKj37fZjhuV"
      },
      "execution_count": null,
      "outputs": []
    },
    {
      "cell_type": "markdown",
      "source": [
        "4. How do you render HTML templates in Flask?"
      ],
      "metadata": {
        "id": "wZJJteOwi0vD"
      }
    },
    {
      "cell_type": "code",
      "source": [
        "#code for the above ques.\n",
        "from flask import Flask, render_template\n",
        "app = Flask(__name__)\n",
        "\n",
        "@app.route('/')\n",
        "def index():\n",
        "    return render_template('index.html')\n",
        "\n",
        "if __name__ == '__main__':\n",
        "    app.run()"
      ],
      "metadata": {
        "id": "GJ_K4MXCnYWA"
      },
      "execution_count": null,
      "outputs": []
    },
    {
      "cell_type": "markdown",
      "source": [
        "5. How can you generate URLs for routes in Flask using url_for?"
      ],
      "metadata": {
        "id": "HwfmvpF0i2es"
      }
    },
    {
      "cell_type": "code",
      "source": [
        "#code for the above ques.\n",
        "from flask import Flask, url_for\n",
        "\n",
        "app = Flask(__name__)\n",
        "\n",
        "@app.route('/')\n",
        "def index():\n",
        "    return 'This is the home page.'\n",
        "\n",
        "@app.route('/about')\n",
        "def about():\n",
        "    return 'This is the about page.'\n",
        "    with app.test_request_context():\n",
        "      print(url_for('index'))\n",
        "    print(url_for('about'))\n",
        "    if __name__ == '__main__':\n",
        "      app.run()"
      ],
      "metadata": {
        "id": "VVirFuy_jjAw"
      },
      "execution_count": null,
      "outputs": []
    },
    {
      "cell_type": "markdown",
      "source": [
        "6. How do you handle forms in Flask?"
      ],
      "metadata": {
        "id": "7-BWH9tZi4lJ"
      }
    },
    {
      "cell_type": "code",
      "source": [
        "#code for the above ques.\n",
        "from flask import Flask, render_template, request\n",
        "\n",
        "app = Flask(__name__)\n",
        "\n",
        "@app.route('/')\n",
        "def index():\n",
        "  return render_template('index.html')\n",
        "@app.route('/submit', methods=['POST'])\n",
        "def submit():\n",
        "  name = request.form['name']\n",
        "  email = request.form['email']\n",
        "  return f'Thank you, {name}! Your email address has been submitted.'\n",
        "if __name__ == '__main__':\n",
        "  app.run()"
      ],
      "metadata": {
        "id": "E9-slHjFnOCS"
      },
      "execution_count": null,
      "outputs": []
    },
    {
      "cell_type": "markdown",
      "source": [
        "7. How can you validate form data in Flask?"
      ],
      "metadata": {
        "id": "YKAqEKcRi-nA"
      }
    },
    {
      "cell_type": "code",
      "source": [
        "#code for the above ques.\n",
        "from flask import Flask, render_template, request\n",
        "\n",
        "app = Flask(__name__)\n",
        "\n",
        "@app.route('/')\n",
        "def index():\n",
        "    return render_template('index.html')\n",
        "    @app.route('/submit', methods=['POST'])\n",
        "    def submit():\n",
        "    name = request.form['name']\n",
        "    email = request.form['email']\n",
        "    if not name or not email:\n",
        "      return 'Please fill out all fields.'\n",
        "    return f'Thank you, {name}! Your email address has been submitted.'\n",
        "    if __name__ == '__main__':\n",
        "      app.run()"
      ],
      "metadata": {
        "id": "1Xx8P1_JnK78"
      },
      "execution_count": null,
      "outputs": []
    },
    {
      "cell_type": "markdown",
      "source": [
        "8. How do you manage sessions in Flask?"
      ],
      "metadata": {
        "id": "2kozVP-6jAcH"
      }
    },
    {
      "cell_type": "code",
      "source": [
        "#code for the above ques.\n",
        "from flask import Flask, session, redirect, url_for\n",
        "\n",
        "app = Flask(__name__)\n",
        "\n",
        "app.secret_key = 'your_secret_key'\n",
        "\n",
        "@app.route('/')\n",
        "def index():\n",
        "  if 'username' in session:\n",
        "      username = session['username']\n",
        "      return f'Hello, {username}!'\n",
        "  else:\n",
        "         return redirect(url_for('login'))\n",
        "@app.route('/login', methods=['GET', 'POST'])\n",
        "def login():\n",
        "  if request.method == 'POST':\n",
        "     username = request.form['username']\n",
        "     session['username'] = username\n",
        "     return redirect(url_for('index'))\n",
        "@app.route('/logout')\n",
        "def logout():\n",
        "  session.pop('username', None)\n",
        "  return redirect(url_for('index'))\n",
        "\n",
        "if __name__ == '__main__':\n",
        "  app.run()"
      ],
      "metadata": {
        "id": "a7yWCWIenIbQ"
      },
      "execution_count": null,
      "outputs": []
    },
    {
      "cell_type": "markdown",
      "source": [
        "9. How do you redirect to a different route in Flask?"
      ],
      "metadata": {
        "id": "gTwQHA8YjCZg"
      }
    },
    {
      "cell_type": "code",
      "source": [
        "#code for the above ques.\n",
        "from flask import Flask, redirect, url_for\n",
        "\n",
        "app = Flask(__name__)\n",
        "\n",
        "@app.route('/')\n",
        "def index():\n",
        "    return 'This is the home page.'\n",
        "    @app.route('/about')\n",
        "    def about():\n",
        "      return 'This is the about page.'\n",
        "    @app.route('/redirect')\n",
        "    def redirect_to_about():\n",
        "      return redirect(url_for('about'))\n",
        "    if __name__ == '__main__':\n",
        "      app.run()"
      ],
      "metadata": {
        "id": "CUF4tuC9jlPO"
      },
      "execution_count": null,
      "outputs": []
    },
    {
      "cell_type": "markdown",
      "source": [
        "10. How do you handle errors in Flask (e.g., 404)?"
      ],
      "metadata": {
        "id": "FwTAbwbFjMfg"
      }
    },
    {
      "cell_type": "code",
      "source": [
        "#code for the above ques.\n",
        "from flask import Flask, render_template\n",
        "\n",
        "app = Flask(__name__)\n",
        "\n",
        "@app.route('/')\n",
        "def index():\n",
        "    return 'This is the home page.'\n",
        "    @app.errorhandler(404)\n",
        "    def page_not_found(error):\n",
        "      return render_template('404.html'), 404\n",
        "    if __name__ == '__main__':\n",
        "      app.run()"
      ],
      "metadata": {
        "id": "yCNr3w11jlyG"
      },
      "execution_count": null,
      "outputs": []
    },
    {
      "cell_type": "markdown",
      "source": [
        "11. How do you structure a Flask app using Blueprints?"
      ],
      "metadata": {
        "id": "_8ZvGkuujOmV"
      }
    },
    {
      "cell_type": "code",
      "source": [
        "#code for the above ques.\n",
        "from flask import Flask\n",
        "from blueprints.routes import bp\n",
        "\n",
        "app = Flask(__name__)\n",
        "\n",
        "app.register_blueprint(bp)\n",
        "\n",
        "if __name__ == '__main__':\n",
        "    app.run()"
      ],
      "metadata": {
        "id": "lGuOc5STjmVv"
      },
      "execution_count": null,
      "outputs": []
    },
    {
      "cell_type": "markdown",
      "source": [
        "12. How do you define a custom Jinja filter in Flask?"
      ],
      "metadata": {
        "id": "yahZM3_CjQd5"
      }
    },
    {
      "cell_type": "code",
      "source": [
        "#code for the above ques.\n",
        "from flask import Flask\n",
        "\n",
        "app = Flask(__name__)\n",
        "\n",
        "@app.template_filter('custom_filter')\n",
        "def custom_filter(value):\n",
        "    return value.upper()\n",
        "    @app.route('/')\n",
        "    def index():\n",
        "    return 'This is the home page.'\n",
        "    if __name__ == '__main__':\n",
        "      app.run()"
      ],
      "metadata": {
        "id": "-z0poXK7jm5u"
      },
      "execution_count": null,
      "outputs": []
    },
    {
      "cell_type": "markdown",
      "source": [
        "13. How can you redirect with query parameters in Flask?"
      ],
      "metadata": {
        "id": "7932zAIPjSm9"
      }
    },
    {
      "cell_type": "code",
      "source": [
        "#code for the above ques.\n",
        "from flask import Flask, redirect, url_for\n",
        "\n",
        "app = Flask(__name__)\n",
        "\n",
        "@app.route('/')\n",
        "def index():\n",
        "  return 'This is the home page.'\n",
        "@app.route('/redirect')\n",
        "def redirect_to_about():\n",
        "  return redirect(url_for('about', name='John'))\n",
        "@app.route('/about/<name>')\n",
        "def about(name):\n",
        "  return f'This is the about page for {name}.'\n",
        "if __name__ == '__main__':\n",
        "  app.run()"
      ],
      "metadata": {
        "id": "5Zy1BAn5jnXs"
      },
      "execution_count": null,
      "outputs": []
    },
    {
      "cell_type": "markdown",
      "source": [
        "14. How do you return JSON responses in Flask?"
      ],
      "metadata": {
        "id": "wuhi26hhjUL0"
      }
    },
    {
      "cell_type": "code",
      "source": [
        "#code for the above ques.\n",
        "from flask import Flask, jsonify\n",
        "\n",
        "app = Flask(__name__)\n",
        "\n",
        "@app.route('/api/data')\n",
        "def get_data():\n",
        "    data = {'message': 'Hello, World!'}\n",
        "    return jsonify(data)\n",
        "    if __name__ == '__main__':\n",
        "      app.run()"
      ],
      "metadata": {
        "id": "BzGQVrzzjn7E"
      },
      "execution_count": null,
      "outputs": []
    },
    {
      "cell_type": "markdown",
      "source": [
        "15. How do you capture URL parameters in Flask?"
      ],
      "metadata": {
        "id": "2AZ9mS_LjV3O"
      }
    },
    {
      "cell_type": "code",
      "source": [
        "#code for the above ques.\n",
        "from flask import Flask, request\n",
        "\n",
        "app = Flask(__name__)\n",
        "\n",
        "@app.route('/user/<username>')\n",
        "def show_user_profile(username):\n",
        "    return f'User {username}'\n",
        "    if __name__ == '__main__':\n",
        "      app.run()"
      ],
      "metadata": {
        "id": "AHaLFLYVjof7"
      },
      "execution_count": null,
      "outputs": []
    }
  ]
}